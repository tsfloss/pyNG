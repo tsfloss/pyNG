{
 "cells": [
  {
   "cell_type": "code",
   "execution_count": 1,
   "id": "9609b8e8",
   "metadata": {},
   "outputs": [],
   "source": [
    "import numpy as np\n",
    "import camb\n",
    "from matplotlib import pyplot as plt\n",
    "from scipy import interpolate\n",
    "\n",
    "%matplotlib inline"
   ]
  },
  {
   "cell_type": "code",
   "execution_count": 14,
   "id": "6604b3a7",
   "metadata": {},
   "outputs": [
    {
     "name": "stdout",
     "output_type": "stream",
     "text": [
      "0.02206838529 0.12088070636\n"
     ]
    }
   ],
   "source": [
    "#set up a new set of parameters for CAMB\n",
    "pars = camb.read_ini(\"Quijote.ini\")\n",
    "pars.WantTransfer = True\n",
    "\n",
    "print(pars.ombh2,pars.omch2)\n",
    "\n",
    "redshift = np.array([0,3,10,30,50,100][::-1]).astype(int)\n",
    "# redshift = [100]\n",
    "pars.set_matter_power(redshifts=redshift,kmax=300)\n",
    "\n",
    "pars.Accuracy.AccuracyBoost = 2.\n",
    "\n",
    "# print(pars)\n",
    "\n",
    "results = camb.get_results(pars)"
   ]
  },
  {
   "cell_type": "code",
   "execution_count": 3,
   "id": "fa5a2134",
   "metadata": {},
   "outputs": [],
   "source": [
    "#set up the primordial power spectrum\n",
    "h = pars.h\n",
    "As = pars.InitPower.As\n",
    "A = 2*np.pi*np.pi*As\n",
    "ns = pars.InitPower.ns\n",
    "kpivot = pars.InitPower.pivot_scalar\n",
    "pfactor = A*kpivot**(1.-ns)\n",
    "\n",
    "def P(k):\n",
    "    return np.power(k,ns-4.)*pfactor"
   ]
  },
  {
   "cell_type": "code",
   "execution_count": 4,
   "id": "9d09e660-6eb4-4660-9c63-e650e009d1c2",
   "metadata": {},
   "outputs": [
    {
     "data": {
      "text/plain": [
       "(2.1355e-09, 3.0612859042934297, 0.9624)"
      ]
     },
     "execution_count": 4,
     "metadata": {},
     "output_type": "execute_result"
    }
   ],
   "source": [
    "As,np.log(1e10*pars.InitPower.As), pars.InitPower.ns"
   ]
  },
  {
   "cell_type": "code",
   "execution_count": 5,
   "id": "6c2e9146-4dde-4ade-8ee8-f68041f93f9f",
   "metadata": {},
   "outputs": [
    {
     "data": {
      "text/plain": [
       "(0.3173999999911185, 0.048999999999999995, 0.2683999999911185, 0.6711)"
      ]
     },
     "execution_count": 5,
     "metadata": {},
     "output_type": "execute_result"
    }
   ],
   "source": [
    "pars.omegam, pars.omegab, pars.omegac, pars.h"
   ]
  },
  {
   "cell_type": "code",
   "execution_count": 6,
   "id": "5152ccdb-ea09-464d-a634-abfa4d73c4e8",
   "metadata": {},
   "outputs": [
    {
     "data": {
      "text/plain": [
       "(13, 703, 6)"
      ]
     },
     "execution_count": 6,
     "metadata": {},
     "output_type": "execute_result"
    }
   ],
   "source": [
    "results.get_matter_transfer_data().transfer_data.shape"
   ]
  },
  {
   "cell_type": "code",
   "execution_count": 7,
   "id": "9a915c2e-7d9b-4a91-b4ec-71332b9da05e",
   "metadata": {},
   "outputs": [
    {
     "data": {
      "text/plain": [
       "array([0.01066733, 0.02092238, 0.03428719, 0.09622594, 0.26274831,\n",
       "       0.83408849])"
      ]
     },
     "execution_count": 7,
     "metadata": {},
     "output_type": "execute_result"
    }
   ],
   "source": [
    "results.get_sigma8()"
   ]
  },
  {
   "cell_type": "code",
   "execution_count": 8,
   "id": "b3d5355b-e4fd-4ea2-bcfd-124bbed6ad63",
   "metadata": {},
   "outputs": [
    {
     "data": {
      "text/plain": [
       "array([0.00795275, 0.01798984, 0.03123617, 0.09300381, 0.25940032,\n",
       "       0.83060439])"
      ]
     },
     "execution_count": 8,
     "metadata": {},
     "output_type": "execute_result"
    }
   ],
   "source": [
    "results.get_sigmaR(8, z_indices=None, var1=3, var2=3, hubble_units=True, return_R_z=False)"
   ]
  },
  {
   "cell_type": "code",
   "execution_count": 9,
   "id": "d407036b-393e-4072-a2f0-19ebc20baff2",
   "metadata": {},
   "outputs": [
    {
     "data": {
      "text/plain": [
       "array([0.98669571, 0.99238683, 0.99503133, 0.99721502, 0.98144231,\n",
       "       0.52934966])"
      ]
     },
     "execution_count": 9,
     "metadata": {},
     "output_type": "execute_result"
    }
   ],
   "source": [
    "f_growth = results.get_fsigma8() / results.get_sigma8()\n",
    "np.savetxt(\"fgrowth.dat\",f_growth)\n",
    "f_growth"
   ]
  },
  {
   "cell_type": "code",
   "execution_count": 15,
   "id": "6b01e089-31ca-425b-a208-c577ca63981a",
   "metadata": {},
   "outputs": [
    {
     "data": {
      "text/plain": [
       "0.0"
      ]
     },
     "execution_count": 15,
     "metadata": {},
     "output_type": "execute_result"
    }
   ],
   "source": [
    "results.comoving_radial_distance(0)"
   ]
  },
  {
   "cell_type": "code",
   "execution_count": 16,
   "id": "b1fb1c0a-bd04-4a7c-94c9-6a5bc3284a7e",
   "metadata": {},
   "outputs": [
    {
     "data": {
      "text/plain": [
       "array([12831.92436257, 12195.91587259, 11571.91378474,  9644.41024176,\n",
       "        6517.92596886,     0.        ])"
      ]
     },
     "execution_count": 16,
     "metadata": {},
     "output_type": "execute_result"
    }
   ],
   "source": [
    "results.comoving_radial_distance(redshift)"
   ]
  },
  {
   "cell_type": "code",
   "execution_count": 17,
   "id": "1976df0e-ab0e-4f6c-8485-4fa9dc4f9db6",
   "metadata": {},
   "outputs": [],
   "source": [
    "np.savetxt(\"comovingD-0-6-0.5.dat\",results.comoving_radial_distance(redshift)[::-1])"
   ]
  },
  {
   "cell_type": "code",
   "execution_count": null,
   "id": "909682fb-2b56-4473-9bfd-bc6c3306e6ef",
   "metadata": {},
   "outputs": [],
   "source": [
    "results.hubble_parameter(redshift)"
   ]
  },
  {
   "cell_type": "code",
   "execution_count": 31,
   "id": "e428a31c-8700-452b-b402-6abc2173732a",
   "metadata": {},
   "outputs": [
    {
     "data": {
      "image/png": "[encoded data removed]",
      "text/plain": [
       "<Figure size 432x288 with 1 Axes>"
      ]
     },
     "metadata": {
      "needs_background": "light"
     },
     "output_type": "display_data"
    }
   ],
   "source": [
    "koverh = results.get_matter_transfer_data().transfer_data[0,:,:]\n",
    "k = koverh * h\n",
    "bary = results.get_matter_transfer_data().transfer_data[1,:,::-1]*k*k * h**1.5\n",
    "koverh = koverh[:,0]\n",
    "k = k[:,0]\n",
    "\n",
    "plt.loglog(koverh,bary[:,[0,-1]])\n",
    "plt.show()"
   ]
  },
  {
   "cell_type": "code",
   "execution_count": 38,
   "id": "2e629522-be44-4732-b45b-cdb523721780",
   "metadata": {},
   "outputs": [],
   "source": [
    "koverhlin, zz, pplin = results.get_linear_matter_power_spectrum(var1=\"delta_cdm\",var2=\"delta_cdm\",k_hunit=True,hubble_units=True,nonlinear=False)"
   ]
  },
  {
   "cell_type": "code",
   "execution_count": 39,
   "id": "7ad8c9dc-7fbe-403a-bb29-c631824d32ea",
   "metadata": {},
   "outputs": [
    {
     "data": {
      "image/png": "[encoded data removed]",
      "text/plain": [
       "<Figure size 432x288 with 1 Axes>"
      ]
     },
     "metadata": {
      "needs_background": "light"
     },
     "output_type": "display_data"
    }
   ],
   "source": [
    "plt.loglog(koverhlin,pplin[-1])\n",
    "# plt.gca().set_prop_cycle(None)\n",
    "# plt.loglog(koverh,(P(k) * bary[:,-1]**2))\n",
    "\n",
    "plt.loglog(koverhlin,pplin[0])\n",
    "# plt.gca().set_prop_cycle(None)\n",
    "# plt.loglog(koverh,(P(k) * bary[:,0]**2))\n",
    "plt.show()"
   ]
  },
  {
   "cell_type": "code",
   "execution_count": 34,
   "id": "28187803-d5ec-42f6-9f13-b19ae0b78a54",
   "metadata": {},
   "outputs": [],
   "source": [
    "TransDat = np.concatenate((koverh[:,np.newaxis],bary),axis=1)"
   ]
  },
  {
   "cell_type": "code",
   "execution_count": 35,
   "id": "17b23c2a-7083-4aa0-9a5e-1eb318b2088e",
   "metadata": {},
   "outputs": [],
   "source": [
    "np.savetxt(\"LinearTransfer.dat\",TransDat)"
   ]
  },
  {
   "cell_type": "code",
   "execution_count": 40,
   "id": "c7a2f1f0-09e1-43ea-8141-8cef1db77a2e",
   "metadata": {},
   "outputs": [],
   "source": [
    "LinDat = np.concatenate((koverhlin[:,np.newaxis],pplin.T),axis=1)"
   ]
  },
  {
   "cell_type": "code",
   "execution_count": 41,
   "id": "b2aad527-a0fd-48d8-9846-6738241720b0",
   "metadata": {},
   "outputs": [],
   "source": [
    "np.savetxt(\"PLinear.dat\",LinDat)"
   ]
  },
  {
   "cell_type": "code",
   "execution_count": null,
   "id": "2bbb7c74-54d6-4532-9100-855bf4ce8afa",
   "metadata": {},
   "outputs": [],
   "source": []
  },
  {
   "cell_type": "code",
   "execution_count": 45,
   "id": "1e265a5d-272d-42e5-bfdc-23b098b99a9e",
   "metadata": {},
   "outputs": [
    {
     "data": {
      "text/plain": [
       "array([[8.89964122e-03, 2.08223498e+04, 1.22982081e+04, 7.65418258e+03,\n",
       "        2.06762391e+03],\n",
       "       [1.50791222e-02, 2.46870446e+04, 1.45969370e+04, 9.09058139e+03,\n",
       "        2.45755071e+03],\n",
       "       [2.14479019e-02, 2.39629275e+04, 1.41891329e+04, 8.84381534e+03,\n",
       "        2.39322645e+03],\n",
       "       ...,\n",
       "       [5.55749331e+00, 2.64912415e+02, 1.43484813e+02, 1.01245008e+02,\n",
       "        1.01768941e+02],\n",
       "       [5.56228171e+00, 2.67699153e+02, 1.45637057e+02, 1.02474963e+02,\n",
       "        1.02699788e+02],\n",
       "       [5.56927272e+00, 2.71755519e+02, 1.46572823e+02, 1.03862938e+02,\n",
       "        1.03678539e+02]])"
      ]
     },
     "execution_count": 45,
     "metadata": {},
     "output_type": "execute_result"
    }
   ],
   "source": [
    "np.loadtxt(\"PNonLinearQuijote.dat\")"
   ]
  },
  {
   "cell_type": "code",
   "execution_count": null,
   "id": "ace462ba-454d-4772-9a1e-6b16c7a56a38",
   "metadata": {},
   "outputs": [],
   "source": []
  }
 ],
 "metadata": {
  "interpreter": {
   "hash": "b0b4e7f45278812c7b03c63a085eaddcc74e9f777f3bcb7538c2127b1e94a38b"
  },
  "kernelspec": {
   "display_name": "Python 3 (ipykernel)",
   "language": "python",
   "name": "python3"
  },
  "language_info": {
   "codemirror_mode": {
    "name": "ipython",
    "version": 3
   },
   "file_extension": ".py",
   "mimetype": "text/x-python",
   "name": "python",
   "nbconvert_exporter": "python",
   "pygments_lexer": "ipython3",
   "version": "3.9.5"
  }
 },
 "nbformat": 4,
 "nbformat_minor": 5
}
