{
 "cells": [
  {
   "cell_type": "code",
   "execution_count": 1,
   "id": "9609b8e8",
   "metadata": {},
   "outputs": [],
   "source": [
    "import numpy as np\n",
    "import camb\n",
    "from matplotlib import pyplot as plt\n",
    "from scipy import interpolate\n",
    "\n",
    "%matplotlib inline"
   ]
  },
  {
   "cell_type": "code",
   "execution_count": 2,
   "id": "6604b3a7",
   "metadata": {},
   "outputs": [
    {
     "name": "stdout",
     "output_type": "stream",
     "text": [
      "0.0223 0.1188\n"
     ]
    },
    {
     "data": {
      "text/plain": [
       "array([6.  , 5.95, 5.9 , 5.85, 5.8 , 5.75, 5.7 , 5.65, 5.6 , 5.55, 5.5 ,\n",
       "       5.45, 5.4 , 5.35, 5.3 , 5.25, 5.2 , 5.15, 5.1 , 5.05, 5.  , 4.95,\n",
       "       4.9 , 4.85, 4.8 , 4.75, 4.7 , 4.65, 4.6 , 4.55, 4.5 , 4.45, 4.4 ,\n",
       "       4.35, 4.3 , 4.25, 4.2 , 4.15, 4.1 , 4.05, 4.  , 3.95, 3.9 , 3.85,\n",
       "       3.8 , 3.75, 3.7 , 3.65, 3.6 , 3.55, 3.5 , 3.45, 3.4 , 3.35, 3.3 ,\n",
       "       3.25, 3.2 , 3.15, 3.1 , 3.05, 3.  , 2.95, 2.9 , 2.85, 2.8 , 2.75,\n",
       "       2.7 , 2.65, 2.6 , 2.55, 2.5 , 2.45, 2.4 , 2.35, 2.3 , 2.25, 2.2 ,\n",
       "       2.15, 2.1 , 2.05, 2.  , 1.95, 1.9 , 1.85, 1.8 , 1.75, 1.7 , 1.65,\n",
       "       1.6 , 1.55, 1.5 , 1.45, 1.4 , 1.35, 1.3 , 1.25, 1.2 , 1.15, 1.1 ,\n",
       "       1.05, 1.  , 0.95, 0.9 , 0.85, 0.8 , 0.75, 0.7 , 0.65, 0.6 , 0.55,\n",
       "       0.5 , 0.45, 0.4 , 0.35, 0.3 , 0.25, 0.2 , 0.15, 0.1 , 0.05, 0.  ])"
      ]
     },
     "execution_count": 2,
     "metadata": {},
     "output_type": "execute_result"
    }
   ],
   "source": [
    "#set up a new set of parameters for CAMB\n",
    "pars = camb.read_ini(\"Planck15.ini\")\n",
    "pars.WantTransfer = True\n",
    "\n",
    "print(pars.ombh2,pars.omch2)\n",
    "\n",
    "redshift = np.linspace(0,6,121)[::-1]\n",
    "# redshift = [100]\n",
    "pars.set_matter_power(redshifts=redshift,kmax=300)\n",
    "\n",
    "pars.Accuracy.AccuracyBoost = 2.\n",
    "\n",
    "# print(pars)\n",
    "\n",
    "results = camb.get_results(pars)\n",
    "redshift"
   ]
  },
  {
   "cell_type": "code",
   "execution_count": 3,
   "id": "fa5a2134",
   "metadata": {},
   "outputs": [],
   "source": [
    "#set up the primordial power spectrum\n",
    "h = pars.h\n",
    "As = pars.InitPower.As\n",
    "A = 2*np.pi*np.pi*As\n",
    "ns = pars.InitPower.ns\n",
    "kpivot = pars.InitPower.pivot_scalar\n",
    "pfactor = A*kpivot**(1.-ns)\n",
    "\n",
    "def P(k):\n",
    "    return np.power(k,ns-4.)*pfactor"
   ]
  },
  {
   "cell_type": "code",
   "execution_count": 4,
   "id": "9d09e660-6eb4-4660-9c63-e650e009d1c2",
   "metadata": {},
   "outputs": [
    {
     "data": {
      "text/plain": [
       "(2.1413038238853928e-09, 3.064, 0.9667)"
      ]
     },
     "execution_count": 4,
     "metadata": {},
     "output_type": "execute_result"
    }
   ],
   "source": [
    "As,np.log(1e10*As), ns"
   ]
  },
  {
   "cell_type": "code",
   "execution_count": 5,
   "id": "6c2e9146-4dde-4ade-8ee8-f68041f93f9f",
   "metadata": {},
   "outputs": [
    {
     "data": {
      "text/plain": [
       "(0.30749398806757705, 0.048597561544344206, 0.2588964265232328, 0.6774)"
      ]
     },
     "execution_count": 5,
     "metadata": {},
     "output_type": "execute_result"
    }
   ],
   "source": [
    "pars.omegam, pars.omegab, pars.omegac, pars.h"
   ]
  },
  {
   "cell_type": "code",
   "execution_count": 6,
   "id": "af0274fc-397e-491b-a798-1455930bd272",
   "metadata": {},
   "outputs": [
    {
     "data": {
      "text/plain": [
       "(array([0.  , 0.05, 0.1 , 0.15, 0.2 , 0.25, 0.3 , 0.35, 0.4 , 0.45, 0.5 ,\n",
       "        0.55, 0.6 , 0.65, 0.7 , 0.75, 0.8 , 0.85, 0.9 , 0.95, 1.  , 1.05,\n",
       "        1.1 , 1.15, 1.2 , 1.25, 1.3 , 1.35, 1.4 , 1.45, 1.5 , 1.55, 1.6 ,\n",
       "        1.65, 1.7 , 1.75, 1.8 , 1.85, 1.9 , 1.95, 2.  , 2.05, 2.1 , 2.15,\n",
       "        2.2 , 2.25, 2.3 , 2.35, 2.4 , 2.45, 2.5 , 2.55, 2.6 , 2.65, 2.7 ,\n",
       "        2.75, 2.8 , 2.85, 2.9 , 2.95, 3.  , 3.05, 3.1 , 3.15, 3.2 , 3.25,\n",
       "        3.3 , 3.35, 3.4 , 3.45, 3.5 , 3.55, 3.6 , 3.65, 3.7 , 3.75, 3.8 ,\n",
       "        3.85, 3.9 , 3.95, 4.  , 4.05, 4.1 , 4.15, 4.2 , 4.25, 4.3 , 4.35,\n",
       "        4.4 , 4.45, 4.5 , 4.55, 4.6 , 4.65, 4.7 , 4.75, 4.8 , 4.85, 4.9 ,\n",
       "        4.95, 5.  , 5.05, 5.1 , 5.15, 5.2 , 5.25, 5.3 , 5.35, 5.4 , 5.45,\n",
       "        5.5 , 5.55, 5.6 , 5.65, 5.7 , 5.75, 5.8 , 5.85, 5.9 , 5.95, 6.  ]),\n",
       " array([0.8277595 , 0.80643783, 0.7855532 , 0.76515659, 0.74528769,\n",
       "        0.72597608, 0.70724235, 0.68909922, 0.67155266, 0.65460295,\n",
       "        0.63824564, 0.62247239, 0.60727182, 0.59263009, 0.57853159,\n",
       "        0.56495934, 0.55189551, 0.53932169, 0.52721922, 0.51556939,\n",
       "        0.50435367, 0.4935538 , 0.48315196, 0.4731308 , 0.46347353,\n",
       "        0.45416398, 0.44518656, 0.43652636, 0.42816909, 0.42010109,\n",
       "        0.41230934, 0.40478143, 0.39750555, 0.39047046, 0.38366548,\n",
       "        0.37708046, 0.37070575, 0.36453221, 0.35855114, 0.35275429,\n",
       "        0.34713382, 0.34168229, 0.33639265, 0.33125817, 0.3262725 ,\n",
       "        0.32142957, 0.31672364, 0.31214924, 0.30770116, 0.30337447,\n",
       "        0.29916446, 0.29506664, 0.29107677, 0.28719077, 0.28340477,\n",
       "        0.2797151 , 0.27611823, 0.27261081, 0.26918963, 0.26585165,\n",
       "        0.26259394, 0.25941371, 0.2563083 , 0.25327517, 0.25031187,\n",
       "        0.24741607, 0.24458555, 0.24181816, 0.23911185, 0.23646467,\n",
       "        0.23387473, 0.23134023, 0.22885944, 0.2264307 , 0.22405241,\n",
       "        0.22172304, 0.21944112, 0.21720524, 0.21501403, 0.21286619,\n",
       "        0.21076046, 0.20869563, 0.20667053, 0.20468405, 0.2027351 ,\n",
       "        0.20082264, 0.19894567, 0.19710322, 0.19529435, 0.19351816,\n",
       "        0.19177379, 0.1900604 , 0.18837718, 0.18672333, 0.18509812,\n",
       "        0.1835008 , 0.18193067, 0.18038705, 0.17886928, 0.17737672,\n",
       "        0.17590875, 0.17446478, 0.17304422, 0.17164651, 0.17027111,\n",
       "        0.16891749, 0.16758515, 0.16627358, 0.16498232, 0.16371089,\n",
       "        0.16245885, 0.16122575, 0.16001117, 0.1588147 , 0.15763595,\n",
       "        0.15647452, 0.15533003, 0.15420212, 0.15309044, 0.15199463,\n",
       "        0.15091436]))"
      ]
     },
     "execution_count": 6,
     "metadata": {},
     "output_type": "execute_result"
    }
   ],
   "source": [
    "redshift[::-1], results.get_sigma8()[::-1]"
   ]
  },
  {
   "cell_type": "code",
   "execution_count": 7,
   "id": "d407036b-393e-4072-a2f0-19ebc20baff2",
   "metadata": {},
   "outputs": [
    {
     "data": {
      "text/plain": [
       "array([0.51997231, 0.54979259, 0.57827781, 0.60535959, 0.63099859,\n",
       "       0.65518097, 0.67791461, 0.6992253 , 0.71915311, 0.73774899,\n",
       "       0.75507181, 0.77118574, 0.78615803, 0.80005728, 0.81295195,\n",
       "       0.82490928, 0.83599445, 0.84626995, 0.85579524, 0.8646265 ,\n",
       "       0.87281641, 0.88041425, 0.88746589, 0.89401386, 0.90009753,\n",
       "       0.90575325, 0.91101452, 0.91591215, 0.92047451, 0.92472762,\n",
       "       0.92869539, 0.93239974, 0.9358608 , 0.93909703, 0.94212535,\n",
       "       0.94496132, 0.94761918, 0.950112  , 0.95245184, 0.9546497 ,\n",
       "       0.95671575, 0.95865933, 0.96048901, 0.96221272, 0.96383771,\n",
       "       0.96537073, 0.96681797, 0.96818513, 0.9694775 , 0.97069998,\n",
       "       0.97185708, 0.97295298, 0.97399154, 0.97497638, 0.97591081,\n",
       "       0.97679794, 0.97764062, 0.97844153, 0.97920318, 0.97992785,\n",
       "       0.98061771, 0.98127478, 0.9819009 , 0.98249786, 0.98306726,\n",
       "       0.98361064, 0.98412943, 0.98462497, 0.98509851, 0.98555122,\n",
       "       0.98598419, 0.98639847, 0.98679503, 0.98717475, 0.98753852,\n",
       "       0.98788712, 0.98822131, 0.98854182, 0.9888493 , 0.98914438,\n",
       "       0.98942768, 0.98969974, 0.9899611 , 0.99021226, 0.99045369,\n",
       "       0.99068586, 0.99090915, 0.99112399, 0.99133075, 0.99152981,\n",
       "       0.99172147, 0.9919061 , 0.99208395, 0.99225537, 0.99242059,\n",
       "       0.9925799 , 0.99273353, 0.99288175, 0.99302472, 0.99316272,\n",
       "       0.99329592, 0.9934245 , 0.99354868, 0.99366862, 0.99378449,\n",
       "       0.99389644, 0.99400462, 0.9941092 , 0.99421029, 0.99430803,\n",
       "       0.99440256, 0.99449398, 0.99458243, 0.994668  , 0.9947508 ,\n",
       "       0.99483094, 0.99490849, 0.99498356, 0.99505627, 0.99512666,\n",
       "       0.99519483])"
      ]
     },
     "execution_count": 7,
     "metadata": {},
     "output_type": "execute_result"
    }
   ],
   "source": [
    "f_growth = (results.get_fsigma8() / results.get_sigma8())[::-1]\n",
    "np.savetxt(\"fgrowth-0-6.dat\",f_growth)\n",
    "f_growth"
   ]
  },
  {
   "cell_type": "code",
   "execution_count": 8,
   "id": "1976df0e-ab0e-4f6c-8485-4fa9dc4f9db6",
   "metadata": {},
   "outputs": [
    {
     "name": "stdout",
     "output_type": "stream",
     "text": [
      "[   0.          148.15045134  292.75168058  433.73678844  571.06400667\n",
      "  704.71503004  834.69297674  961.02011476 1083.73547643 1202.8924633\n",
      " 1318.55652199 1430.80295032 1539.71487399 1645.38141759 1747.8960803\n",
      " 1847.35531653 1943.85731426 2037.50095867 2128.3849658  2216.60716907\n",
      " 2302.26394141 2385.44973582 2466.25672834 2544.7745484  2621.09008327\n",
      " 2695.28734429 2767.44738467 2837.6482593  2905.96501897 2972.46973204\n",
      " 3037.23152785 3100.31665712 3161.78856525 3221.70797512 3280.13297675\n",
      " 3337.11912143 3392.71951854 3446.98493362 3499.96388632 3551.70274757\n",
      " 3602.24583501 3651.63550618 3699.91224919 3747.11477031 3793.28007855\n",
      " 3838.44356688 3882.63909015 3925.89903964 3968.25441424 4009.73488838\n",
      " 4050.36887667 4090.18359543 4129.20512119 4167.45844624 4204.96753133\n",
      " 4241.75535574 4277.84396471 4313.25451441 4348.0073146  4382.12186902\n",
      " 4415.61691371 4448.51045325 4480.81979516 4512.56158249 4543.75182466\n",
      " 4574.40592672 4604.53871708 4634.16447381 4663.29694953 4691.94939507\n",
      " 4720.13458188 4747.86482327 4775.15199465 4802.00755261 4828.44255319\n",
      " 4854.46766908 4880.09320607 4905.32911865 4930.18502478 4954.67022003\n",
      " 4978.79369099 5002.56412796 5025.98993715 5049.07925218 5071.83994512\n",
      " 5094.27963696 5116.40570755 5138.22530519 5159.74535564 5180.97257081\n",
      " 5201.91345699 5222.57432276 5242.96128649 5263.08028353 5282.93707304\n",
      " 5302.53724462 5321.8862245  5340.98928156 5359.85153308 5378.47795019\n",
      " 5396.87336314 5415.0424663  5432.98982297 5450.71987003 5468.23692227\n",
      " 5485.5451767  5502.64871656 5519.5515152  5536.25743985 5552.77025515\n",
      " 5569.09362661 5585.23112391 5601.18622403 5616.96231433 5632.56269544\n",
      " 5647.9905841  5663.24911581 5678.34134745 5693.27025977 5708.03875982\n",
      " 5722.64968318]\n"
     ]
    }
   ],
   "source": [
    "ComD = results.comoving_radial_distance(redshift)[::-1]*h\n",
    "print(ComD)\n",
    "np.savetxt(\"comovingD-0-6.dat\",ComD)"
   ]
  },
  {
   "cell_type": "code",
   "execution_count": 9,
   "id": "e428a31c-8700-452b-b402-6abc2173732a",
   "metadata": {},
   "outputs": [
    {
     "data": {
      "image/png": "[encoded data removed]",
      "text/plain": [
       "<Figure size 432x288 with 1 Axes>"
      ]
     },
     "metadata": {
      "needs_background": "light"
     },
     "output_type": "display_data"
    }
   ],
   "source": [
    "koverh = results.get_matter_transfer_data().transfer_data[0,:,:]\n",
    "k = koverh * h\n",
    "cdm = results.get_matter_transfer_data().transfer_data[1,:,::-1]*k*k\n",
    "bary = results.get_matter_transfer_data().transfer_data[2,:,::-1]*k*k\n",
    "tot = results.get_matter_transfer_data().transfer_data[6,:,::-1]*k*k\n",
    "koverh = koverh[:,0]\n",
    "k = k[:,0]\n",
    "\n",
    "plt.loglog(koverh,cdm[:,[0]])\n",
    "plt.loglog(koverh,bary[:,[0]])\n",
    "plt.loglog(koverh,tot[:,[0]])\n",
    "plt.show()"
   ]
  },
  {
   "cell_type": "code",
   "execution_count": 10,
   "id": "2e629522-be44-4732-b45b-cdb523721780",
   "metadata": {},
   "outputs": [],
   "source": [
    "koverhlin, zz, pplin = results.get_linear_matter_power_spectrum(var1=\"delta_tot\",var2=\"delta_tot\",k_hunit=True,hubble_units=True,nonlinear=False)"
   ]
  },
  {
   "cell_type": "code",
   "execution_count": 11,
   "id": "7ad8c9dc-7fbe-403a-bb29-c631824d32ea",
   "metadata": {},
   "outputs": [
    {
     "data": {
      "image/png": "[encoded data removed]",
      "text/plain": [
       "<Figure size 432x288 with 1 Axes>"
      ]
     },
     "metadata": {
      "needs_background": "light"
     },
     "output_type": "display_data"
    }
   ],
   "source": [
    "plt.loglog(koverhlin,pplin[-1])\n",
    "# plt.gca().set_prop_cycle(None)\n",
    "# plt.loglog(koverh,(P(k) * bary[:,-1]**2))\n",
    "\n",
    "plt.loglog(koverhlin,pplin[0])\n",
    "# plt.gca().set_prop_cycle(None)\n",
    "# plt.loglog(koverh,(P(k) * bary[:,0]**2))\n",
    "plt.show()"
   ]
  },
  {
   "cell_type": "code",
   "execution_count": 12,
   "id": "28187803-d5ec-42f6-9f13-b19ae0b78a54",
   "metadata": {},
   "outputs": [],
   "source": [
    "TransDat = np.concatenate((koverh[:,np.newaxis],tot),axis=1)"
   ]
  },
  {
   "cell_type": "code",
   "execution_count": 13,
   "id": "17b23c2a-7083-4aa0-9a5e-1eb318b2088e",
   "metadata": {},
   "outputs": [],
   "source": [
    "np.savetxt(\"LinearTransfer2015.dat\",TransDat)"
   ]
  },
  {
   "cell_type": "code",
   "execution_count": 15,
   "id": "1e265a5d-272d-42e5-bfdc-23b098b99a9e",
   "metadata": {},
   "outputs": [
    {
     "data": {
      "text/plain": [
       "[<matplotlib.lines.Line2D at 0x7fe67658a0a0>]"
      ]
     },
     "execution_count": 15,
     "metadata": {},
     "output_type": "execute_result"
    },
    {
     "data": {
      "image/png": "[encoded data removed]",
      "text/plain": [
       "<Figure size 432x288 with 1 Axes>"
      ]
     },
     "metadata": {
      "needs_background": "light"
     },
     "output_type": "display_data"
    }
   ],
   "source": [
    "PK = results.get_matter_power_interpolator(nonlinear=False, var1=\"delta_tot\", var2=\"delta_tot\", hubble_units=True, k_hunit=True, extrap_kmax=1e9, silent=False)\n",
    "kLin = np.logspace(-5,4.2,1000)\n",
    "plt.loglog(kLin,PK.P(0,kLin).T)"
   ]
  },
  {
   "cell_type": "code",
   "execution_count": 16,
   "id": "60ee5b0f-994d-45da-9ac3-c64bad701dd8",
   "metadata": {},
   "outputs": [],
   "source": [
    "PPP = np.array([PK.P(z,kLin) for z in redshift[::-1]]).T"
   ]
  },
  {
   "cell_type": "code",
   "execution_count": 17,
   "id": "ace462ba-454d-4772-9a1e-6b16c7a56a38",
   "metadata": {},
   "outputs": [],
   "source": [
    "LinDat = np.concatenate((kLin[:,np.newaxis],PPP),axis=1)"
   ]
  },
  {
   "cell_type": "code",
   "execution_count": 18,
   "id": "ec3fa06b-b0cf-42b2-8833-954acd440f4a",
   "metadata": {},
   "outputs": [],
   "source": [
    "np.savetxt(\"PLinear2015.dat\",LinDat)"
   ]
  },
  {
   "cell_type": "code",
   "execution_count": null,
   "id": "46bda07a-bfe5-45a7-afe6-356f4e865133",
   "metadata": {},
   "outputs": [],
   "source": []
  }
 ],
 "metadata": {
  "interpreter": {
   "hash": "b0b4e7f45278812c7b03c63a085eaddcc74e9f777f3bcb7538c2127b1e94a38b"
  },
  "kernelspec": {
   "display_name": "Python 3 (ipykernel)",
   "language": "python",
   "name": "python3"
  },
  "language_info": {
   "codemirror_mode": {
    "name": "ipython",
    "version": 3
   },
   "file_extension": ".py",
   "mimetype": "text/x-python",
   "name": "python",
   "nbconvert_exporter": "python",
   "pygments_lexer": "ipython3",
   "version": "3.9.7"
  }
 },
 "nbformat": 4,
 "nbformat_minor": 5
}
