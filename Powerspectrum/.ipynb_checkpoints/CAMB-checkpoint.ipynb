{
 "cells": [
  {
   "cell_type": "code",
   "execution_count": 1,
   "id": "9609b8e8",
   "metadata": {},
   "outputs": [],
   "source": [
    "import numpy as np\n",
    "import camb\n",
    "from matplotlib import pyplot as plt\n",
    "from scipy import interpolate\n",
    "\n",
    "%matplotlib inline"
   ]
  },
  {
   "cell_type": "code",
   "execution_count": 2,
   "id": "6604b3a7",
   "metadata": {},
   "outputs": [
    {
     "name": "stdout",
     "output_type": "stream",
     "text": [
      "0.02206838529 0.12088070636\n"
     ]
    }
   ],
   "source": [
    "#set up a new set of parameters for CAMB\n",
    "pars = camb.read_ini(\"Quijote.ini\")\n",
    "pars.WantTransfer = True\n",
    "\n",
    "print(pars.ombh2,pars.omch2)\n",
    "\n",
    "redshift = np.linspace(0,6,13)[::-1]\n",
    "# redshift = [100]\n",
    "pars.set_matter_power(redshifts=redshift,kmax=300)\n",
    "\n",
    "pars.Accuracy.AccuracyBoost = 2.\n",
    "\n",
    "# print(pars)\n",
    "\n",
    "results = camb.get_results(pars)"
   ]
  },
  {
   "cell_type": "code",
   "execution_count": 3,
   "id": "fa5a2134",
   "metadata": {},
   "outputs": [],
   "source": [
    "#set up the primordial power spectrum\n",
    "h = pars.h\n",
    "As = pars.InitPower.As\n",
    "A = 2*np.pi*np.pi*As\n",
    "ns = pars.InitPower.ns\n",
    "kpivot = pars.InitPower.pivot_scalar\n",
    "pfactor = A*kpivot**(1.-ns)\n",
    "\n",
    "def P(k):\n",
    "    return np.power(k,ns-4.)*pfactor"
   ]
  },
  {
   "cell_type": "code",
   "execution_count": 4,
   "id": "9d09e660-6eb4-4660-9c63-e650e009d1c2",
   "metadata": {},
   "outputs": [
    {
     "data": {
      "text/plain": [
       "(2.1355e-09, 3.0612859042934297, 0.9624)"
      ]
     },
     "execution_count": 4,
     "metadata": {},
     "output_type": "execute_result"
    }
   ],
   "source": [
    "As,np.log(1e10*pars.InitPower.As), pars.InitPower.ns"
   ]
  },
  {
   "cell_type": "code",
   "execution_count": 5,
   "id": "6c2e9146-4dde-4ade-8ee8-f68041f93f9f",
   "metadata": {},
   "outputs": [
    {
     "data": {
      "text/plain": [
       "(0.3173999999911185, 0.048999999999999995, 0.2683999999911185, 0.6711)"
      ]
     },
     "execution_count": 5,
     "metadata": {},
     "output_type": "execute_result"
    }
   ],
   "source": [
    "pars.omegam, pars.omegab, pars.omegac, pars.h"
   ]
  },
  {
   "cell_type": "code",
   "execution_count": 6,
   "id": "5152ccdb-ea09-464d-a634-abfa4d73c4e8",
   "metadata": {},
   "outputs": [
    {
     "data": {
      "text/plain": [
       "(13, 703, 13)"
      ]
     },
     "execution_count": 6,
     "metadata": {},
     "output_type": "execute_result"
    }
   ],
   "source": [
    "results.get_matter_transfer_data().transfer_data.shape"
   ]
  },
  {
   "cell_type": "code",
   "execution_count": 7,
   "id": "9a915c2e-7d9b-4a91-b4ec-71332b9da05e",
   "metadata": {},
   "outputs": [
    {
     "data": {
      "text/plain": [
       "array([0.1509671 , 0.1625181 , 0.17597643, 0.19185274, 0.21085515,\n",
       "       0.23399264, 0.26274831, 0.29938064, 0.34746482, 0.41287791,\n",
       "       0.50547702, 0.64081318, 0.83408849])"
      ]
     },
     "execution_count": 7,
     "metadata": {},
     "output_type": "execute_result"
    }
   ],
   "source": [
    "results.get_sigma8()"
   ]
  },
  {
   "cell_type": "code",
   "execution_count": 8,
   "id": "d407036b-393e-4072-a2f0-19ebc20baff2",
   "metadata": {},
   "outputs": [
    {
     "data": {
      "text/plain": [
       "array([0.99536484, 0.99461047, 0.99355574, 0.99205386, 0.98986406,\n",
       "       0.98657408, 0.98144231, 0.9730555 , 0.95853653, 0.93159465,\n",
       "       0.87759674, 0.76270984, 0.52934966])"
      ]
     },
     "execution_count": 8,
     "metadata": {},
     "output_type": "execute_result"
    }
   ],
   "source": [
    "f_growth = results.get_fsigma8() / results.get_sigma8()\n",
    "np.savetxt(\"fgrowth.dat\",f_growth)\n",
    "f_growth"
   ]
  },
  {
   "cell_type": "code",
   "execution_count": 11,
   "id": "6b01e089-31ca-425b-a208-c577ca63981a",
   "metadata": {},
   "outputs": [
    {
     "data": {
      "text/plain": [
       "0.0"
      ]
     },
     "execution_count": 11,
     "metadata": {},
     "output_type": "execute_result"
    }
   ],
   "source": [
    "results.comoving_radial_distance(0)"
   ]
  },
  {
   "cell_type": "code",
   "execution_count": 74,
   "id": "1976df0e-ab0e-4f6c-8485-4fa9dc4f9db6",
   "metadata": {},
   "outputs": [],
   "source": [
    "np.savetxt(\"comovingD-0-6-0.5.dat\",results.comoving_radial_distance(redshift)[::-1])"
   ]
  },
  {
   "cell_type": "code",
   "execution_count": 75,
   "id": "909682fb-2b56-4473-9bfd-bc6c3306e6ef",
   "metadata": {},
   "outputs": [
    {
     "data": {
      "text/plain": [
       "array([703.13132755, 629.5987218 , 558.91506569, 491.21095486,\n",
       "       426.6399776 , 365.38712147, 307.68223344, 253.82285786,\n",
       "       204.21553125, 159.45525973, 120.48428789,  88.88471487,\n",
       "        67.11      ])"
      ]
     },
     "execution_count": 75,
     "metadata": {},
     "output_type": "execute_result"
    }
   ],
   "source": [
    "results.hubble_parameter(redshift)"
   ]
  },
  {
   "cell_type": "code",
   "execution_count": 76,
   "id": "e428a31c-8700-452b-b402-6abc2173732a",
   "metadata": {},
   "outputs": [
    {
     "data": {
      "image/png": "[encoded data removed]",
      "text/plain": [
       "<Figure size 432x288 with 1 Axes>"
      ]
     },
     "metadata": {
      "needs_background": "light"
     },
     "output_type": "display_data"
    }
   ],
   "source": [
    "koverh = results.get_matter_transfer_data().transfer_data[0,:,:]\n",
    "k = koverh * h\n",
    "bary = results.get_matter_transfer_data().transfer_data[1,:,::-1]*k*k * h**1.5\n",
    "koverh = koverh[:,0]\n",
    "k = k[:,0]\n",
    "\n",
    "plt.loglog(koverh,bary[:,[0,-1]])\n",
    "plt.show()"
   ]
  },
  {
   "cell_type": "code",
   "execution_count": 77,
   "id": "2e629522-be44-4732-b45b-cdb523721780",
   "metadata": {},
   "outputs": [],
   "source": [
    "koverhlin, zz, pplin = results.get_linear_matter_power_spectrum(var1=\"delta_cdm\",var2=\"delta_cdm\",k_hunit=True,hubble_units=True,nonlinear=False)"
   ]
  },
  {
   "cell_type": "code",
   "execution_count": 78,
   "id": "7ad8c9dc-7fbe-403a-bb29-c631824d32ea",
   "metadata": {},
   "outputs": [
    {
     "data": {
      "image/png": "[encoded data removed]",
      "text/plain": [
       "<Figure size 432x288 with 1 Axes>"
      ]
     },
     "metadata": {
      "needs_background": "light"
     },
     "output_type": "display_data"
    }
   ],
   "source": [
    "plt.loglog(koverhlin,pplin[-1])\n",
    "# plt.gca().set_prop_cycle(None)\n",
    "# plt.loglog(koverh,(P(k) * bary[:,-1]**2))\n",
    "\n",
    "plt.loglog(koverhlin,pplin[0])\n",
    "# plt.gca().set_prop_cycle(None)\n",
    "# plt.loglog(koverh,(P(k) * bary[:,0]**2))\n",
    "plt.show()"
   ]
  },
  {
   "cell_type": "code",
   "execution_count": 79,
   "id": "28187803-d5ec-42f6-9f13-b19ae0b78a54",
   "metadata": {},
   "outputs": [],
   "source": [
    "TransDat = np.concatenate((koverh[:,np.newaxis],bary),axis=1)"
   ]
  },
  {
   "cell_type": "code",
   "execution_count": 80,
   "id": "17b23c2a-7083-4aa0-9a5e-1eb318b2088e",
   "metadata": {},
   "outputs": [],
   "source": [
    "np.savetxt(\"LinearTransferQuij.dat\",TransDat)"
   ]
  },
  {
   "cell_type": "code",
   "execution_count": 81,
   "id": "c7a2f1f0-09e1-43ea-8141-8cef1db77a2e",
   "metadata": {},
   "outputs": [],
   "source": [
    "LinDat = np.concatenate((koverhlin[:,np.newaxis],pplin.T),axis=1)"
   ]
  },
  {
   "cell_type": "code",
   "execution_count": 82,
   "id": "b2aad527-a0fd-48d8-9846-6738241720b0",
   "metadata": {},
   "outputs": [],
   "source": [
    "np.savetxt(\"PLinearQuij.dat\",LinDat)"
   ]
  },
  {
   "cell_type": "code",
   "execution_count": null,
   "id": "2bbb7c74-54d6-4532-9100-855bf4ce8afa",
   "metadata": {},
   "outputs": [],
   "source": []
  },
  {
   "cell_type": "code",
   "execution_count": null,
   "id": "1e265a5d-272d-42e5-bfdc-23b098b99a9e",
   "metadata": {},
   "outputs": [],
   "source": []
  },
  {
   "cell_type": "code",
   "execution_count": null,
   "id": "ace462ba-454d-4772-9a1e-6b16c7a56a38",
   "metadata": {},
   "outputs": [],
   "source": []
  }
 ],
 "metadata": {
  "interpreter": {
   "hash": "b0b4e7f45278812c7b03c63a085eaddcc74e9f777f3bcb7538c2127b1e94a38b"
  },
  "kernelspec": {
   "display_name": "Python 3 (ipykernel)",
   "language": "python",
   "name": "python3"
  },
  "language_info": {
   "codemirror_mode": {
    "name": "ipython",
    "version": 3
   },
   "file_extension": ".py",
   "mimetype": "text/x-python",
   "name": "python",
   "nbconvert_exporter": "python",
   "pygments_lexer": "ipython3",
   "version": "3.9.5"
  }
 },
 "nbformat": 4,
 "nbformat_minor": 5
}
