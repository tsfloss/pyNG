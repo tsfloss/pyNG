{
 "cells": [
  {
   "cell_type": "code",
   "execution_count": 1,
   "id": "9609b8e8",
   "metadata": {},
   "outputs": [],
   "source": [
    "import numpy as np\n",
    "import camb\n",
    "from matplotlib import pyplot as plt\n",
    "from scipy import interpolate\n",
    "\n",
    "%matplotlib inline"
   ]
  },
  {
   "cell_type": "code",
   "execution_count": 2,
   "id": "6604b3a7",
   "metadata": {},
   "outputs": [
    {
     "name": "stdout",
     "output_type": "stream",
     "text": [
      "0.0223 0.1188\n"
     ]
    }
   ],
   "source": [
    "#set up a new set of parameters for CAMB\n",
    "pars = camb.read_ini(\"Quijote.ini\")\n",
    "pars.WantTransfer = True\n",
    "\n",
    "print(pars.ombh2,pars.omch2)\n",
    "\n",
    "redshift = np.linspace(0,6)[::-1]\n",
    "# redshift = [100]\n",
    "pars.set_matter_power(redshifts=redshift,kmax=300)\n",
    "\n",
    "pars.Accuracy.AccuracyBoost = 2.\n",
    "\n",
    "# print(pars)\n",
    "\n",
    "results = camb.get_results(pars)"
   ]
  },
  {
   "cell_type": "code",
   "execution_count": 10,
   "id": "f46eb783-0895-4ebc-b04b-5406d8557d41",
   "metadata": {},
   "outputs": [
    {
     "data": {
      "text/plain": [
       "array([0. , 0.5, 1. , 1.5, 2. , 2.5, 3. , 3.5, 4. , 4.5, 5. , 5.5, 6. ])"
      ]
     },
     "execution_count": 10,
     "metadata": {},
     "output_type": "execute_result"
    }
   ],
   "source": [
    "np.linspace(0,6,13)"
   ]
  },
  {
   "cell_type": "code",
   "execution_count": 146,
   "id": "fa5a2134",
   "metadata": {},
   "outputs": [],
   "source": [
    "#set up the primordial power spectrum\n",
    "h = pars.h\n",
    "As = pars.InitPower.As\n",
    "A = 2*np.pi*np.pi*As\n",
    "ns = pars.InitPower.ns\n",
    "kpivot = pars.InitPower.pivot_scalar\n",
    "pfactor = A*kpivot**(1.-ns)\n",
    "\n",
    "def P(k):\n",
    "    return np.power(k,ns-4.)*pfactor"
   ]
  },
  {
   "cell_type": "code",
   "execution_count": 148,
   "id": "9d09e660-6eb4-4660-9c63-e650e009d1c2",
   "metadata": {},
   "outputs": [
    {
     "data": {
      "text/plain": [
       "(2.142e-09, 3.064325065019603, 0.9667)"
      ]
     },
     "execution_count": 148,
     "metadata": {},
     "output_type": "execute_result"
    }
   ],
   "source": [
    "As,np.log(1e10*pars.InitPower.As), pars.InitPower.ns"
   ]
  },
  {
   "cell_type": "code",
   "execution_count": 149,
   "id": "6c2e9146-4dde-4ade-8ee8-f68041f93f9f",
   "metadata": {},
   "outputs": [
    {
     "data": {
      "text/plain": [
       "(0.30749398806757705, 0.048597561544344206, 0.2588964265232328, 0.6774)"
      ]
     },
     "execution_count": 149,
     "metadata": {},
     "output_type": "execute_result"
    }
   ],
   "source": [
    "pars.omegam, pars.omegab, pars.omegac, pars.h"
   ]
  },
  {
   "cell_type": "code",
   "execution_count": 150,
   "id": "5152ccdb-ea09-464d-a634-abfa4d73c4e8",
   "metadata": {},
   "outputs": [
    {
     "data": {
      "text/plain": [
       "(13, 703, 50)"
      ]
     },
     "execution_count": 150,
     "metadata": {},
     "output_type": "execute_result"
    }
   ],
   "source": [
    "results.get_matter_transfer_data().transfer_data.shape"
   ]
  },
  {
   "cell_type": "code",
   "execution_count": 151,
   "id": "e428a31c-8700-452b-b402-6abc2173732a",
   "metadata": {},
   "outputs": [
    {
     "data": {
      "image/png": "[encoded data removed]",
      "text/plain": [
       "<Figure size 432x288 with 1 Axes>"
      ]
     },
     "metadata": {
      "needs_background": "light"
     },
     "output_type": "display_data"
    }
   ],
   "source": [
    "koverh = results.get_matter_transfer_data().transfer_data[0,:,:]\n",
    "k = koverh * h\n",
    "bary = results.get_matter_transfer_data().transfer_data[2,:,::-1]*k*k * h**1.5\n",
    "koverh = koverh[:,0]\n",
    "k = k[:,0]\n",
    "\n",
    "plt.loglog(koverh,bary[:,[0,-1]])\n",
    "plt.show()"
   ]
  },
  {
   "cell_type": "code",
   "execution_count": 152,
   "id": "2e629522-be44-4732-b45b-cdb523721780",
   "metadata": {},
   "outputs": [],
   "source": [
    "koverhlin, zz, pplin = results.get_linear_matter_power_spectrum(var1=\"delta_baryon\",var2=\"delta_baryon\",k_hunit=True,hubble_units=True,nonlinear=False)"
   ]
  },
  {
   "cell_type": "code",
   "execution_count": 153,
   "id": "7ad8c9dc-7fbe-403a-bb29-c631824d32ea",
   "metadata": {},
   "outputs": [
    {
     "data": {
      "image/png": "[encoded data removed]",
      "text/plain": [
       "<Figure size 432x288 with 1 Axes>"
      ]
     },
     "metadata": {
      "needs_background": "light"
     },
     "output_type": "display_data"
    }
   ],
   "source": [
    "plt.loglog(koverhlin,pplin[-1])\n",
    "# plt.gca().set_prop_cycle(None)\n",
    "# plt.loglog(koverh,(P(k) * bary[:,-1]**2))\n",
    "\n",
    "plt.loglog(koverhlin,pplin[0])\n",
    "# plt.gca().set_prop_cycle(None)\n",
    "# plt.loglog(koverh,(P(k) * bary[:,0]**2))\n",
    "plt.show()"
   ]
  },
  {
   "cell_type": "code",
   "execution_count": 154,
   "id": "28187803-d5ec-42f6-9f13-b19ae0b78a54",
   "metadata": {},
   "outputs": [],
   "source": [
    "TransDat = np.concatenate((koverh[:,np.newaxis],bary),axis=1)"
   ]
  },
  {
   "cell_type": "code",
   "execution_count": 155,
   "id": "17b23c2a-7083-4aa0-9a5e-1eb318b2088e",
   "metadata": {},
   "outputs": [],
   "source": [
    "np.savetxt(\"LinearTransfer2015.dat\",TransDat)"
   ]
  },
  {
   "cell_type": "code",
   "execution_count": 156,
   "id": "c7a2f1f0-09e1-43ea-8141-8cef1db77a2e",
   "metadata": {},
   "outputs": [],
   "source": [
    "LinDat = np.concatenate((koverhlin[:,np.newaxis],pplin.T),axis=1)"
   ]
  },
  {
   "cell_type": "code",
   "execution_count": 157,
   "id": "b2aad527-a0fd-48d8-9846-6738241720b0",
   "metadata": {},
   "outputs": [],
   "source": [
    "np.savetxt(\"PLinear2015.dat\",LinDat)"
   ]
  },
  {
   "cell_type": "code",
   "execution_count": null,
   "id": "2bbb7c74-54d6-4532-9100-855bf4ce8afa",
   "metadata": {},
   "outputs": [],
   "source": []
  },
  {
   "cell_type": "code",
   "execution_count": null,
   "id": "1e265a5d-272d-42e5-bfdc-23b098b99a9e",
   "metadata": {},
   "outputs": [],
   "source": []
  },
  {
   "cell_type": "code",
   "execution_count": null,
   "id": "ace462ba-454d-4772-9a1e-6b16c7a56a38",
   "metadata": {},
   "outputs": [],
   "source": []
  }
 ],
 "metadata": {
  "interpreter": {
   "hash": "b0b4e7f45278812c7b03c63a085eaddcc74e9f777f3bcb7538c2127b1e94a38b"
  },
  "kernelspec": {
   "display_name": "Python 3 (ipykernel)",
   "language": "python",
   "name": "python3"
  },
  "language_info": {
   "codemirror_mode": {
    "name": "ipython",
    "version": 3
   },
   "file_extension": ".py",
   "mimetype": "text/x-python",
   "name": "python",
   "nbconvert_exporter": "python",
   "pygments_lexer": "ipython3",
   "version": "3.9.5"
  }
 },
 "nbformat": 4,
 "nbformat_minor": 5
}
